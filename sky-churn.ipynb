{
 "cells": [
  {
   "cell_type": "code",
   "execution_count": null,
   "metadata": {
    "collapsed": true
   },
   "outputs": [],
   "source": [
    "# Sky Marketing Campaign Analysis"
   ]
  },
  {
   "cell_type": "code",
   "execution_count": 73,
   "metadata": {
    "collapsed": false
   },
   "outputs": [],
   "source": [
    "# Read in data\n",
    "from __future__ import division\n",
    "from operator import itemgetter\n",
    "import pandas as pd\n",
    "data = pd.read_csv('C:\\dev\\Unison\\Sky\\data\\campaign_data_20171110.csv')"
   ]
  },
  {
   "cell_type": "code",
   "execution_count": 41,
   "metadata": {
    "collapsed": false
   },
   "outputs": [
    {
     "name": "stdout",
     "output_type": "stream",
     "text": [
      "Sports Upgrade via email campaign: 63\n"
     ]
    }
   ],
   "source": [
    "# Question 1 - How many upgraded to sports in the email campaign\n",
    "# Note: Only the Treatment Group were contacted per Data Dictionary info\n",
    "df_treat = data[data['control group'] == 'Treatment']\n",
    "df_treat_email = df_treat[df_treat['Channel'] == 'Email']\n",
    "sports_up = len(df_treat_email[df_treat_email['Sports Upgrade'] == 1])\n",
    "print 'Sports Upgrade via email campaign: {}'.format(sports_up)"
   ]
  },
  {
   "cell_type": "code",
   "execution_count": 50,
   "metadata": {
    "collapsed": false
   },
   "outputs": [
    {
     "name": "stdout",
     "output_type": "stream",
     "text": [
      "Control group as share of total accounts: 17.78 %\n"
     ]
    }
   ],
   "source": [
    "# Quetsion 2 - % of accounts in OBTM control group as a share of total accounts\n",
    "# Data issue - account numbers are all the same\n",
    "control_percent = len(data[data['control group'] == 'Control']) / len(data)\n",
    "print 'Control group as share of total accounts: {} %'.format(round(control_percent*100,2))"
   ]
  },
  {
   "cell_type": "code",
   "execution_count": 61,
   "metadata": {
    "collapsed": false
   },
   "outputs": [
    {
     "name": "stdout",
     "output_type": "stream",
     "text": [
      "Online Control Churn Rate: 0.00232718717234\n",
      "Online Treatment Churn Rate: 0.0025151269215\n",
      "Online campaign increased the rate of churn in the treated group\n"
     ]
    }
   ],
   "source": [
    "# Question 3 - Did online campaign increase or decrease rate of churn\n",
    "# when comparing treated group to control group\n",
    "online_control = data[(data['Channel']=='Online') & (data['control group']=='Control')]\n",
    "online_treatment = data[(data['Channel']=='Online') & (data['control group']=='Treatment')]\n",
    "churn_rate_online_con = len(online_control[online_control['Churned'] == 1])/len(online_control)\n",
    "churn_rate_online_treat = len(online_treatment[online_treatment['Churned'] == 1])/len(online_treatment)\n",
    "print 'Online Control Churn Rate: {}\\n'.format(churn_rate_online_con), 'Online Treatment Churn Rate: {}'.format(churn_rate_online_treat)\n",
    "print 'Online campaign increased the rate of churn in the treated group'"
   ]
  },
  {
   "cell_type": "code",
   "execution_count": 64,
   "metadata": {
    "collapsed": false
   },
   "outputs": [
    {
     "name": "stdout",
     "output_type": "stream",
     "text": [
      "Account numbers are all the same - any other issues?\n"
     ]
    }
   ],
   "source": [
    "# Question 4 - Date quality issues in the Outbound Dialling campaign?\n",
    "print 'Account numbers are all the same - any other issues?'"
   ]
  },
  {
   "cell_type": "code",
   "execution_count": 78,
   "metadata": {
    "collapsed": false
   },
   "outputs": [
    {
     "name": "stdout",
     "output_type": "stream",
     "text": [
      "Online: 0.000273208675179\n",
      "Email: 0.000232123107173\n",
      "Outbound Dialling: 0.00246287576965\n",
      "Channel resulting in highest upgrade impact is Outbound Dialling:\n"
     ]
    }
   ],
   "source": [
    "# Insight 1: Which channel is best for movies upgrades in terms of impact/magnitude of upgrades?\n",
    "# Could look at the movie upgrade rate per channel (Treatment group)\n",
    "online_treatment = data[(data['Channel']=='Online') & (data['control group']=='Treatment')]\n",
    "email_treatment = data[(data['Channel']=='Email') & (data['control group']=='Treatment')]\n",
    "call_treatment = data[(data['Channel']=='Outbound_Dialling') & (data['control group']=='Treatment')]\n",
    "online_treat_mov_up_rate = len(online_treatment[online_treatment['Movies Upgrade'] == 1])/len(online_treatment)\n",
    "email_treat_mov_up_rate = len(online_treatment[online_treatment['Movies Upgrade'] == 1])/len(email_treatment)\n",
    "call_treat_mov_up_rate = len(online_treatment[online_treatment['Movies Upgrade'] == 1])/len(call_treatment)\n",
    "tup1 = ('Online', online_treat_mov_up_rate)\n",
    "tup2 = ('Email', email_treat_mov_up_rate)\n",
    "tup3 = ('Outbound Dialling', call_treat_mov_up_rate)\n",
    "tup_list = [tup1, tup2, tup3]\n",
    "print '{}: {}'.format(tup1[0], tup1[1])\n",
    "print '{}: {}'.format(tup2[0], tup2[1])\n",
    "print '{}: {}'.format(tup3[0], tup3[1])\n",
    "print 'Channel resulting in highest upgrade impact is {}:'.format(max(tup_list, key=itemgetter(1))[0])\n"
   ]
  },
  {
   "cell_type": "code",
   "execution_count": 85,
   "metadata": {
    "collapsed": false
   },
   "outputs": [
    {
     "name": "stdout",
     "output_type": "stream",
     "text": [
      "Online: 0.0025151269215\n",
      "Email: 0.00415437897257\n",
      "Outbound Dialling: 0.000779448279187\n",
      "Campaign with largest impact on churn is Outbound Dialling:\n"
     ]
    }
   ],
   "source": [
    "# Which campaign had the largest impact on Churn?\n",
    "email_treatment = data[(data['Channel']=='Email') & (data['control group']=='Treatment')]\n",
    "churn_rate_email = len(email_treatment[email_treatment['Churned'] == 1])/len(online_treatment)\n",
    "online_treatment = data[(data['Channel']=='Online') & (data['control group']=='Treatment')]\n",
    "churn_rate_online = len(online_treatment[online_treatment['Churned'] == 1])/len(online_treatment)\n",
    "call_treatment = data[(data['Channel']=='Outbound_Dialling') & (data['control group']=='Treatment')]\n",
    "churn_rate_call = len(call_treatment[call_treatment['Churned'] == 1])/len(online_treatment)\n",
    "tup1 = ('Online', churn_rate_online)\n",
    "tup2 = ('Email', churn_rate_email)\n",
    "tup3 = ('Outbound Dialling', churn_rate_call)\n",
    "tup_list = [tup1, tup2, tup3]\n",
    "print '{}: {}'.format(tup1[0], tup1[1])\n",
    "print '{}: {}'.format(tup2[0], tup2[1])\n",
    "print '{}: {}'.format(tup3[0], tup3[1])\n",
    "print 'Campaign with largest impact on churn is {}:'.format(min(tup_list, key=itemgetter(1))[0])"
   ]
  },
  {
   "cell_type": "code",
   "execution_count": null,
   "metadata": {
    "collapsed": true
   },
   "outputs": [],
   "source": [
    "# Important note: Impact could be interpreted as biggest increase in upgrades\n",
    "# decrease in churn when comparing Control and Treatment for each category\n",
    "# E.g. churn rate control email is: 0.002 while\n",
    "#      churn rate treatment email is: 0.004 while\n",
    "# That is 100% increase in upgrades\n",
    "# Compare same analysis with online and calls\n",
    "# This is anoother way to present it as opposed to the above cell"
   ]
  }
 ],
 "metadata": {
  "kernelspec": {
   "display_name": "Python [Root]",
   "language": "python",
   "name": "Python [Root]"
  },
  "language_info": {
   "codemirror_mode": {
    "name": "ipython",
    "version": 2
   },
   "file_extension": ".py",
   "mimetype": "text/x-python",
   "name": "python",
   "nbconvert_exporter": "python",
   "pygments_lexer": "ipython2",
   "version": "2.7.11"
  }
 },
 "nbformat": 4,
 "nbformat_minor": 2
}
